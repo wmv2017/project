{
 "cells": [
  {
   "cell_type": "code",
   "execution_count": 15,
   "metadata": {
    "collapsed": true
   },
   "outputs": [],
   "source": [
    "#!/usr/bin/python\n",
    "# -*- coding:utf-8 -*-\n",
    "import re\n",
    "from caculatexyz import *\n",
    "from pnp_withoutinitial import *\n",
    "from velocity import *\n",
    "from sklearn.metrics import mean_squared_error\n",
    "from plot3d import *\n",
    "from validate import *"
   ]
  },
  {
   "cell_type": "code",
   "execution_count": 16,
   "metadata": {
    "collapsed": true
   },
   "outputs": [],
   "source": [
    "def combine_with_speed(red):\n",
    "    new_array = np.zeros((red.shape[0]-1,4))\n",
    "    # no the final point\n",
    "    for i in range(0,red.shape[0]-1):\n",
    "        vector_b, v_b = velocity_vector_2pts(red[i][0],red[i][1],red[i][2],red[i+1][0],red[i+1][1],red[i+1][2])\n",
    "        index = i\n",
    "        new_array[index] = (red[i][0],red[i][1],red[i][2],v_b)\n",
    "    \n",
    "    return new_array"
   ]
  },
  {
   "cell_type": "code",
   "execution_count": 17,
   "metadata": {
    "collapsed": true
   },
   "outputs": [],
   "source": [
    "def combine_with_time(red):\n",
    "    new_array = np.zeros((red.shape[0],5))\n",
    "    for i in range(0,red.shape[0]):\n",
    "        time = 0.016*i\n",
    "        new_array[i] = (red[i][0],red[i][1],red[i][2],red[i][3],time)\n",
    "    return new_array"
   ]
  },
  {
   "cell_type": "code",
   "execution_count": 20,
   "metadata": {},
   "outputs": [
    {
     "ename": "NameError",
     "evalue": "name 'change_mph' is not defined",
     "output_type": "error",
     "traceback": [
      "\u001b[0;31m---------------------------------------------------------------------------\u001b[0m",
      "\u001b[0;31mNameError\u001b[0m                                 Traceback (most recent call last)",
      "\u001b[0;32m<ipython-input-20-ff9d28956a3a>\u001b[0m in \u001b[0;36m<module>\u001b[0;34m()\u001b[0m\n\u001b[1;32m     21\u001b[0m \u001b[0mred_t\u001b[0m \u001b[0;34m=\u001b[0m \u001b[0mcombine_with_speed\u001b[0m\u001b[0;34m(\u001b[0m\u001b[0mred_c\u001b[0m\u001b[0;34m)\u001b[0m\u001b[0;34m\u001b[0m\u001b[0m\n\u001b[1;32m     22\u001b[0m \u001b[0;34m\u001b[0m\u001b[0m\n\u001b[0;32m---> 23\u001b[0;31m \u001b[0mnew\u001b[0m \u001b[0;34m=\u001b[0m \u001b[0mchange_mph\u001b[0m\u001b[0;34m(\u001b[0m\u001b[0;36m52.6\u001b[0m\u001b[0;34m)\u001b[0m\u001b[0;34m\u001b[0m\u001b[0m\n\u001b[0m\u001b[1;32m     24\u001b[0m \u001b[0mprint\u001b[0m\u001b[0;34m(\u001b[0m\u001b[0mnew\u001b[0m\u001b[0;34m)\u001b[0m\u001b[0;34m\u001b[0m\u001b[0m\n\u001b[1;32m     25\u001b[0m \u001b[0;34m\u001b[0m\u001b[0m\n",
      "\u001b[0;31mNameError\u001b[0m: name 'change_mph' is not defined"
     ]
    }
   ],
   "source": [
    "in_file = open('3_lines.txt','r')\n",
    "line = in_file.readlines()\n",
    "k_yellow_p = line[0]\n",
    "k_yellow = line[1]\n",
    "k_blue_p = line[2]\n",
    "k_bule = line[3]\n",
    "k_red_p = line[4]\n",
    "k_red = line[5]\n",
    "s_yellow = line[6]\n",
    "s_blue = line[7]\n",
    "s_red = line[8]\n",
    "#caculate 3d\n",
    "yellow = caculate(k_yellow,k_yellow_p)\n",
    "blue = caculate(k_bule,k_blue_p)\n",
    "red = caculate(k_red,k_red_p)\n",
    "blue_c = combine_with_speed(blue)\n",
    "blue_t = combine_with_time(blue_c) \n",
    "yellow_c = combine_with_speed(yellow)\n",
    "yellow_t = combine_with_time(yellow_c) \n",
    "red_c = combine_with_speed(red)\n",
    "red_t = combine_with_speed(red_c)\n",
    "\n",
    "new = change_mph(52.6)\n",
    "print(new)\n",
    "\n",
    "# print(len(process_ord_slip(k_yellow_p)),len(process_ord_slip(k_yellow)))\n",
    "\n",
    "\n",
    "# bounce_index = find_bounce(blue)\n",
    "# print(blue_c[bounce_index])\n",
    "# print(yellow_c.shape[0])"
   ]
  },
  {
   "cell_type": "code",
   "execution_count": 6,
   "metadata": {},
   "outputs": [
    {
     "data": {
      "text/plain": [
       "array([[  1.03710463e+02,   1.21848494e+02,   2.27785624e+02,\n",
       "          1.12167922e+01,   0.00000000e+00],\n",
       "       [  1.04468134e+02,   1.39776930e+02,   2.28080880e+02,\n",
       "          1.12112551e+01,   1.60000000e-02],\n",
       "       [  1.05218419e+02,   1.57697819e+02,   2.28306624e+02,\n",
       "          1.12058796e+01,   3.20000000e-02],\n",
       "       [  1.05961306e+02,   1.75611149e+02,   2.28462726e+02,\n",
       "          1.12006669e+01,   4.80000000e-02],\n",
       "       [  1.06696784e+02,   1.93516909e+02,   2.28549061e+02,\n",
       "          1.11956181e+01,   6.40000000e-02]])"
      ]
     },
     "execution_count": 6,
     "metadata": {},
     "output_type": "execute_result"
    }
   ],
   "source": [
    "blue_t[:5]"
   ]
  }
 ],
 "metadata": {
  "kernelspec": {
   "display_name": "my-virtualenv-name",
   "language": "python",
   "name": "my-virtualenv-name"
  },
  "language_info": {
   "codemirror_mode": {
    "name": "ipython",
    "version": 3
   },
   "file_extension": ".py",
   "mimetype": "text/x-python",
   "name": "python",
   "nbconvert_exporter": "python",
   "pygments_lexer": "ipython3",
   "version": "3.5.2"
  }
 },
 "nbformat": 4,
 "nbformat_minor": 2
}
